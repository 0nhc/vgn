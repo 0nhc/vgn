{
 "cells": [
  {
   "cell_type": "markdown",
   "metadata": {},
   "source": [
    "# Export URDFs\n",
    "\n",
    "Scans the `SOURCE_FOLDER` for `.obj` files, and for each mesh exports a URDF file and associated visual and collision shapes for simulation with pybullet to the `TARGET_FOLDER`."
   ]
  },
  {
   "cell_type": "code",
   "execution_count": null,
   "metadata": {},
   "outputs": [],
   "source": [
    "from __future__ import print_function, division"
   ]
  },
  {
   "cell_type": "code",
   "execution_count": null,
   "metadata": {},
   "outputs": [],
   "source": [
    "import os\n",
    "os.chdir('..')"
   ]
  },
  {
   "cell_type": "code",
   "execution_count": null,
   "metadata": {},
   "outputs": [],
   "source": [
    "from pathlib2 import Path\n",
    "import shutil\n",
    "import tarfile\n",
    "\n",
    "import h5py\n",
    "import numpy as np\n",
    "import pybullet as p\n",
    "import requests\n",
    "import trimesh"
   ]
  },
  {
   "cell_type": "code",
   "execution_count": null,
   "metadata": {},
   "outputs": [],
   "source": [
    "SOURCE_FOLDER = Path(\"data/meshes/3dnet\")\n",
    "TARGET_FOLDER = Path(\"data/urdfs/3dnet\")\n",
    "\n",
    "SCALE_TO_FIT = True\n",
    "MAX_OPENING_WIDTH = 0.08"
   ]
  },
  {
   "cell_type": "code",
   "execution_count": null,
   "metadata": {},
   "outputs": [],
   "source": [
    "TARGET_FOLDER.mkdir(exist_ok=True)"
   ]
  },
  {
   "cell_type": "code",
   "execution_count": null,
   "metadata": {},
   "outputs": [],
   "source": [
    "for mesh_path in SOURCE_FOLDER.iterdir():\n",
    "    if not mesh_path.suffix == \".obj\":\n",
    "        continue\n",
    "\n",
    "    name = mesh_path.stem\n",
    "    urdf_path = TARGET_FOLDER / (name + \".urdf\")\n",
    "    visual_mesh_path = TARGET_FOLDER / (name + \"_visual.obj\")\n",
    "    collision_mesh_path = TARGET_FOLDER / (name + \"_collision.obj\")\n",
    "\n",
    "    print(\"Processing\", name)\n",
    "        \n",
    "    # load the mesh\n",
    "    mesh_in = trimesh.load(mesh_path)\n",
    "\n",
    "    # check mesh\n",
    "    if not mesh_in.is_watertight:\n",
    "        print(\"Not watertight, skipping\")\n",
    "        continue\n",
    "    \n",
    "    # estimate physical properties\n",
    "    density = 700\n",
    "    mass = mesh_in.volume * density\n",
    "\n",
    "    # export visual mesh\n",
    "    mesh_visual = mesh_in.copy()\n",
    "    mesh_visual.vertices -= mesh_visual.center_mass\n",
    "    if SCALE_TO_FIT:\n",
    "        extent = np.sort(mesh_visual.bounding_box.extents)[1]\n",
    "        scale = min(1.0, (MAX_OPENING_WIDTH - 0.01) / extent)\n",
    "        mesh_visual.vertices *= scale\n",
    "    mesh_visual.export(visual_mesh_path)\n",
    "\n",
    "    # export collision mesh\n",
    "    p.vhacd(str(visual_mesh_path), str(collision_mesh_path), \"log.txt\")\n",
    "\n",
    "    # export urdf\n",
    "    urdf = (\n",
    "        '<?xml version=\"1.0\"?>\\n'\n",
    "        '<robot name=\"{}\">\\n'\n",
    "        '  <link name=\"base_link\">\\n'\n",
    "        \"    <contact>\\n\"\n",
    "        '      <lateral_friction value=\"1.0\"/>\\n'\n",
    "        '      <rolling_friction value=\"0.0\"/>\\n'\n",
    "        '      <contact_cfm value=\"0.0\"/>\\n'\n",
    "        '      <contact_erp value=\"1.0\"/>\\n'\n",
    "        \"    </contact>\\n\"\n",
    "        \"    <inertial>\\n\"\n",
    "        '      <mass value=\"{}\"/>\\n'\n",
    "        '      <inertia ixx=\"1\" ixy=\"0\" ixz=\"0\" iyy=\"1\" iyz=\"0\" izz=\"1\"/>\\n'\n",
    "        \"    </inertial>\\n\"\n",
    "        \"    <visual>\\n\"\n",
    "        \"      <geometry>\\n\"\n",
    "        '        <mesh filename=\"{}\"/>\\n'\n",
    "        \"      </geometry>\\n\"\n",
    "        \"    </visual>\\n\"\n",
    "        \"    <collision>\\n\"\n",
    "        \"      <geometry>\\n\"\n",
    "        '        <mesh filename=\"{}\"/>\\n'\n",
    "        \"      </geometry>\\n\"\n",
    "        \"    </collision>\\n\"\n",
    "        \"  </link>\\n\"\n",
    "        \"</robot>\\n\"\n",
    "        \"\"\n",
    "    ).format(name, mass, visual_mesh_path.name, collision_mesh_path.name)\n",
    "    with urdf_path.open(\"wb\") as f:\n",
    "        f.write(urdf)\n",
    "\n",
    "print(\"Done\")"
   ]
  },
  {
   "cell_type": "markdown",
   "metadata": {},
   "source": [
    "## BigBIRD"
   ]
  },
  {
   "cell_type": "code",
   "execution_count": null,
   "metadata": {},
   "outputs": [],
   "source": [
    "CWD = Path.home() / \"Downloads\""
   ]
  },
  {
   "cell_type": "code",
   "execution_count": null,
   "metadata": {},
   "outputs": [],
   "source": [
    "objects = [\n",
    "    \"3m_high_tack_spray_adhesive\",\n",
    "    \"advil_liqui_gels\",\n",
    "    \"aunt_jemima_original_syrup\",\n",
    "    \"bai5_sumatra_dragonfruit\",\n",
    "    \"band_aid_clear_strips\",\n",
    "    \"band_aid_sheer_strips\",\n",
    "    \"blue_clover_baby_toy\",\n",
    "    \"bumblebee_albacore\",\n",
    "    \"campbells_chicken_noodle_soup\",\n",
    "    \"campbells_soup_at_hand_creamy_tomato\",\n",
    "    \"canon_ack_e10_box\",\n",
    "    \"cheez_it_white_cheddar\",\n",
    "    \"chewy_dipps_chocolate_chip\",\n",
    "    \"chewy_dipps_peanut_butter\",\n",
    "    \"cholula_chipotle_hot_sauce\",\n",
    "    \"cinnamon_toast_crunch\",\n",
    "    \"clif_crunch_chocolate_chip\",\n",
    "    \"coca_cola_glass_bottle\",\n",
    "    \"coffee_mate_french_vanilla\",\n",
    "    \"colgate_cool_mint\",\n",
    "    \"crayola_24_crayons\",\n",
    "    \"crest_complete_minty_fresh\",\n",
    "    \"crystal_hot_sauce\",\n",
    "    \"cup_noodles_chicken\",\n",
    "    \"detergent\",\n",
    "    \"dove_beauty_cream_bar\",\n",
    "    \"eating_right_for_healthy_living_apple\",\n",
    "    \"expo_marker_red\",\n",
    "    \"fruit_by_the_foot\",\n",
    "    \"haagen_dazs_butter_pecan\",\n",
    "    \"haagen_dazs_cookie_dough\",\n",
    "    \"hersheys_bar\",\n",
    "    \"hersheys_cocoa\",\n",
    "    \"honey_bunches_of_oats_honey_roasted\",\n",
    "    \"hunts_paste\",\n",
    "    \"ikea_table_leg_blue\",\n",
    "    \"krylon_crystal_clear\",\n",
    "    \"krylon_short_cuts\",\n",
    "    \"mom_to_mom_butternut_squash_pear\",\n",
    "    \"motts_original_assorted_fruit\",\n",
    "    \"nice_honey_roasted_almonds\",\n",
    "    \"nutrigrain_apple_cinnamon\",\n",
    "    \"palmolive_green\",\n",
    "    \"pepto_bismol\",\n",
    "    \"pop_secret_butter\",\n",
    "    \"pop_secret_light_butter\",\n",
    "    \"pop_tarts_strawberry\",\n",
    "    \"pringles_bbq\",\n",
    "    \"progresso_new_england_clam_chowder\",\n",
    "    \"quaker_big_chewy_chocolate_chip\",\n",
    "    \"red_bull\",\n",
    "    \"red_cup\",\n",
    "    \"softsoap_gold\",\n",
    "    \"south_beach_good_to_go_dark_chocolate\",\n",
    "    \"spam\",\n",
    "    \"spongebob_squarepants_fruit_snaks\",\n",
    "    \"suave_sweet_guava_nectar_body_wash\",\n",
    "    \"sunkist_fruit_snacks_mixed_fruit\",\n",
    "    \"v8_fusion_peach_mango\",\n",
    "    \"vo5_extra_body_volumizing_shampoo\",\n",
    "    \"white_rain_sensations_apple_blossom_hydrating_body_wash\",\n",
    "    \"windex\",\n",
    "    \"zilla_night_black_heat\",\n",
    "]"
   ]
  },
  {
   "cell_type": "code",
   "execution_count": null,
   "metadata": {},
   "outputs": [],
   "source": [
    "for name in objects:\n",
    "    print(\"Processing\", name)\n",
    "    \n",
    "    # download\n",
    "    url = \"http://rll.berkeley.edu/bigbird/aliases/dca39bef51/export/\" + name + \"/processed.tgz\"\n",
    "    archive = CWD / \"processed.tgz\"\n",
    "    r = requests.get(url, allow_redirects=True)\n",
    "    archive.open(\"wb\").write(r.content)\n",
    "    \n",
    "    # extract\n",
    "    tar = tarfile.open(str(archive))\n",
    "    tar.extractall(str(CWD))\n",
    "    tar.close()\n",
    "    archive.unlink()\n",
    "    \n",
    "    # copy\n",
    "    source_path = CWD / name / \"meshes\" / \"poisson.ply\"\n",
    "    target_path = CWD / \"bigbird\" / (name + \".ply\")\n",
    "    shutil.copy(str(source_path), str(target_path))"
   ]
  },
  {
   "cell_type": "markdown",
   "metadata": {},
   "source": [
    "## Kappler Grasp Database\n",
    "\n",
    "The grasp database can be downloaded [here](http://grasp-database.dkappler.de/)."
   ]
  },
  {
   "cell_type": "code",
   "execution_count": null,
   "metadata": {},
   "outputs": [],
   "source": [
    "CWD = Path.home() / \"Downloads\""
   ]
  },
  {
   "cell_type": "code",
   "execution_count": null,
   "metadata": {},
   "outputs": [],
   "source": [
    "f = h5py.File(str(CWD / \"grasp-database-all-v01.h5\"), \"r\")\n",
    "db = f[\"objects\"]\n",
    "names = list(db.keys())\n",
    "\n",
    "for name in names:\n",
    "    try:\n",
    "        print(\"Reading\", name)    \n",
    "        binary = db[name][\"object_model\"][0]\n",
    "        mesh = trimesh.load(trimesh.util.wrap_as_stream(binary), \"ply\")\n",
    "        mesh.export(CWD / \"kappler\" / (name + \".obj\"))\n",
    "    except ValueError as e:\n",
    "        print(\"Error, skipping\", name)\n",
    "        continue"
   ]
  },
  {
   "cell_type": "markdown",
   "metadata": {},
   "source": [
    "## Train/Test Split"
   ]
  },
  {
   "cell_type": "code",
   "execution_count": null,
   "metadata": {},
   "outputs": [],
   "source": [
    "train_urdfs =  [path for path in Path(\"train\").iterdir() if path.suffix == \".urdf\"]\n",
    "test_urdfs = np.random.choice(urdfs, size=40, replace=False)"
   ]
  },
  {
   "cell_type": "code",
   "execution_count": null,
   "metadata": {},
   "outputs": [],
   "source": [
    "for path in test_urdfs: \n",
    "    urdf_name = path.name\n",
    "    visual_name = path.stem + \"_visual.obj\"\n",
    "    collision_name = path.stem + \"_collision.obj\"\n",
    "    \n",
    "    shutil.move(str(Path(\"train\") / urdf_name), str(Path(\"test\") / urdf_name))\n",
    "    shutil.move(str(Path(\"train\") / visual_name), str(Path(\"test\") / visual_name))\n",
    "    shutil.move(str(Path(\"train\") / collision_name), str(Path(\"test\") / collision_name))"
   ]
  },
  {
   "cell_type": "code",
   "execution_count": null,
   "metadata": {},
   "outputs": [],
   "source": []
  }
 ],
 "metadata": {
  "kernelspec": {
   "display_name": "Python 2.7.17 64-bit ('.venv': virtualenv)",
   "language": "python",
   "name": "python271764bitvenvvirtualenvaaf25d8b1b524fb48018a995ef6dd85c"
  },
  "language_info": {
   "codemirror_mode": {
    "name": "ipython",
    "version": 2
   },
   "file_extension": ".py",
   "mimetype": "text/x-python",
   "name": "python",
   "nbconvert_exporter": "python",
   "pygments_lexer": "ipython2",
   "version": "2.7.17"
  }
 },
 "nbformat": 4,
 "nbformat_minor": 2
}
