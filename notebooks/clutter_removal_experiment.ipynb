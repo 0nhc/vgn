{
 "cells": [
  {
   "cell_type": "markdown",
   "metadata": {},
   "source": [
    "# Clutter Removal Experiment\n",
    "\n",
    "Use this notebook to analyze the results from multiple rounds of clutter removal experiments."
   ]
  },
  {
   "cell_type": "code",
   "execution_count": null,
   "metadata": {},
   "outputs": [],
   "source": [
    "from __future__ import print_function\n",
    "\n",
    "from pathlib2 import Path\n",
    "import rospy\n",
    "\n",
    "from vgn import benchmark"
   ]
  },
  {
   "cell_type": "markdown",
   "metadata": {},
   "source": [
    "Path to the root directory of the experiment containing `rounds.csv` and `grasps.csv`."
   ]
  },
  {
   "cell_type": "code",
   "execution_count": null,
   "metadata": {},
   "outputs": [],
   "source": [
    "logdir = Path(\"../data/experiments/meh\")"
   ]
  },
  {
   "cell_type": "markdown",
   "metadata": {},
   "source": [
    "First, we compute the following metrics for the experiment:\n",
    "\n",
    "* **Success rate**: the ratio of successful grasp executions,\n",
    "* **Percent cleared**: the percentage of objects removed during each round,\n",
    "* **Planning time**: the time between receiving a voxel grid/point cloud and returning a list of grasp candidates."
   ]
  },
  {
   "cell_type": "code",
   "execution_count": null,
   "metadata": {},
   "outputs": [],
   "source": [
    "n_grasps, success_rate, percent_cleared, planning_time = benchmark.compute_metrics(logdir)\n",
    "\n",
    "print(\"Number of grasps: \", n_grasps)\n",
    "print(\"Success rate:     \", success_rate)\n",
    "print(\"Percent cleared:  \", percent_cleared)\n",
    "print(\"Planning time:     {} +- {}\".format(planning_time[\"mean\"], planning_time[\"std\"]))"
   ]
  },
  {
   "cell_type": "markdown",
   "metadata": {},
   "source": [
    "Next, we visualize the failure cases in RViz. For this, it is easiest to load `config/sim.rviz`.\n",
    "\n",
    "TODO"
   ]
  },
  {
   "cell_type": "code",
   "execution_count": null,
   "metadata": {},
   "outputs": [],
   "source": [
    "# failures = dataset.df[dataset.df[\"label\"] == 0].index.tolist()\n",
    "# iterator = iter(failures)"
   ]
  },
  {
   "cell_type": "code",
   "execution_count": null,
   "metadata": {},
   "outputs": [],
   "source": []
  }
 ],
 "metadata": {
  "kernelspec": {
   "display_name": "Python 2",
   "language": "python",
   "name": "python2"
  },
  "language_info": {
   "codemirror_mode": {
    "name": "ipython",
    "version": 2
   },
   "file_extension": ".py",
   "mimetype": "text/x-python",
   "name": "python",
   "nbconvert_exporter": "python",
   "pygments_lexer": "ipython2",
   "version": "2.7.17"
  }
 },
 "nbformat": 4,
 "nbformat_minor": 2
}
