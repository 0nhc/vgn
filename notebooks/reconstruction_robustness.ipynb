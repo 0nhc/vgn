{
 "cells": [
  {
   "cell_type": "markdown",
   "metadata": {},
   "source": [
    "# Reconstruction Robustness\n",
    "\n",
    "Investigate the robustness of GPD and VGN towards different degrees of scene completeness.\n",
    "\n",
    "For this, we construct $N$ equidistant viewpoints on a circle. We then evaluate each method $N$ times, where for each step $n \\in [1,N]$ we construct the input by integrating images rendered from the first $n$ viewpoints."
   ]
  },
  {
   "cell_type": "code",
   "execution_count": null,
   "metadata": {},
   "outputs": [],
   "source": [
    "from pathlib2 import Path\n",
    "\n",
    "import matplotlib.pyplot as plt\n",
    "import numpy as np\n",
    "\n",
    "from vgn import benchmark\n",
    "from vgn.detection import *\n",
    "from vgn.baselines import GPD"
   ]
  },
  {
   "cell_type": "markdown",
   "metadata": {},
   "source": [
    "The root directory of this study will have the following file structure:\n",
    "\n",
    "```\n",
    "root/scene/method/01\n",
    "root/scene/method/02\n",
    "...\n",
    "root/scene/method/N\n",
    "```\n"
   ]
  },
  {
   "cell_type": "code",
   "execution_count": null,
   "metadata": {},
   "outputs": [],
   "source": [
    "root = Path(\"../data/experiments/reconstruction_robustness\")\n",
    "scene = \"packed\"\n",
    "methods = [\"gpd\", \"vgn_partial\", \"vgn_complete\"]\n",
    "colors = [\"C0\", \"C1\", \"C2\"]\n",
    "labels = [\"GPD\", \"VGN, complete\", \"VGN, partial\"]\n",
    "N = 12"
   ]
  },
  {
   "cell_type": "code",
   "execution_count": null,
   "metadata": {},
   "outputs": [],
   "source": [
    "# TODO run simulations"
   ]
  },
  {
   "cell_type": "markdown",
   "metadata": {},
   "source": [
    "The following cells will compute and plot grasping metrics for each scenario. "
   ]
  },
  {
   "cell_type": "code",
   "execution_count": null,
   "metadata": {},
   "outputs": [],
   "source": [
    "success_rates = {}\n",
    "percent_cleared = {}\n",
    "\n",
    "for method in methods:\n",
    "    success_rates[method] = np.zeros(N-1)\n",
    "    percent_cleared[method] = np.zeros(N-1)\n",
    "    for n in range(1, N):\n",
    "        metrics = benchmark.compute_metrics(root / scene / method / str(n).zfill(2))\n",
    "        success_rates[method][n-1] = metrics[1]\n",
    "        percent_cleared[method][n-1] = metrics[2]"
   ]
  },
  {
   "cell_type": "code",
   "execution_count": null,
   "metadata": {},
   "outputs": [],
   "source": [
    "fig, ax = plt.subplots()\n",
    "\n",
    "for i, method in enumerate(methods):\n",
    "    color = colors[i]\n",
    "    label = labels[i]\n",
    "    linewidth = 2.0 if method == \"vgn_partial\" else 1.0\n",
    "    ax.plot(range(1, N), success_rates[method], color=color, label=label)\n",
    "    ax.plot(range(1, N), percent_cleared[method], color=color, linestyle=\"--\")\n",
    "\n",
    "ax.set_ylim(40, 101)\n",
    "ax.legend()\n",
    "\n",
    "plt.savefig(\"reconstruction_robustness.png\", dpi=300)"
   ]
  },
  {
   "cell_type": "code",
   "execution_count": null,
   "metadata": {},
   "outputs": [],
   "source": []
  }
 ],
 "metadata": {
  "kernelspec": {
   "display_name": "Python 2.7.17 64-bit ('.venv': virtualenv)",
   "language": "python",
   "name": "python271764bitvenvvirtualenv53fa728ba0304976ad6d9b4453122434"
  },
  "language_info": {
   "codemirror_mode": {
    "name": "ipython",
    "version": 2
   },
   "file_extension": ".py",
   "mimetype": "text/x-python",
   "name": "python",
   "nbconvert_exporter": "python",
   "pygments_lexer": "ipython2",
   "version": "2.7.17"
  }
 },
 "nbformat": 4,
 "nbformat_minor": 2
}
