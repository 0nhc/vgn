{
 "cells": [
  {
   "cell_type": "markdown",
   "metadata": {},
   "source": [
    "# Evaluation\n",
    "\n",
    "Network inspection, learning curves, metrics, and grasp trials."
   ]
  },
  {
   "cell_type": "code",
   "execution_count": null,
   "metadata": {},
   "outputs": [],
   "source": [
    "%load_ext autoreload\n",
    "%autoreload 2"
   ]
  },
  {
   "cell_type": "code",
   "execution_count": null,
   "metadata": {},
   "outputs": [],
   "source": [
    "import os\n",
    "os.chdir('..')"
   ]
  },
  {
   "cell_type": "code",
   "execution_count": null,
   "metadata": {},
   "outputs": [],
   "source": [
    "from __future__ import print_function, division\n",
    "\n",
    "from pathlib2 import Path\n",
    "import time\n",
    "\n",
    "import matplotlib.pyplot as plt\n",
    "import numpy as np\n",
    "import pandas as pd\n",
    "import rospy\n",
    "\n",
    "from vgn.baselines import GPD\n",
    "from vgn import benchmark, vis\n",
    "from vgn.dataset import Dataset\n",
    "from vgn.detection import *\n",
    "from vgn.grasp import *\n",
    "from vgn.utils.transform import Rotation, Transform"
   ]
  },
  {
   "cell_type": "code",
   "execution_count": null,
   "metadata": {},
   "outputs": [],
   "source": [
    "vis.set_size(0.3)"
   ]
  },
  {
   "cell_type": "code",
   "execution_count": null,
   "metadata": {},
   "outputs": [],
   "source": [
    "rospy.init_node(\"vgn_evaluation\", anonymous=True)"
   ]
  },
  {
   "cell_type": "markdown",
   "metadata": {},
   "source": [
    "Model to be evaluated."
   ]
  },
  {
   "cell_type": "code",
   "execution_count": null,
   "metadata": {},
   "outputs": [],
   "source": [
    "model_path = Path(\"\")\n",
    "\n",
    "device = torch.device(\"cuda\" if torch.cuda.is_available() else \"cpu\")\n",
    "net = load_network(model_path, device)"
   ]
  },
  {
   "cell_type": "markdown",
   "metadata": {},
   "source": [
    "## Data Set\n",
    "\n",
    "Visualise detections on some data set."
   ]
  },
  {
   "cell_type": "code",
   "execution_count": null,
   "metadata": {},
   "outputs": [],
   "source": [
    "dataset = Path(\"data/datasets/train\")\n",
    "dataset = Dataset(dataset, reconstruction=\"complete\")"
   ]
  },
  {
   "cell_type": "markdown",
   "metadata": {},
   "source": [
    "Draw all detections of a random test sample."
   ]
  },
  {
   "cell_type": "code",
   "execution_count": null,
   "metadata": {},
   "outputs": [],
   "source": [
    "i = np.random.choice(len(dataset))\n",
    "print(\"Sample:\", i)\n",
    "\n",
    "x, y, index = dataset[i]\n",
    "vis.draw_sample(x, y, index)\n",
    "vis.draw_points(np.asarray(dataset.read_pc(i).points))\n",
    "\n",
    "out = predict(x, net, device)\n",
    "out = process(x, out, threshold=0.8)\n",
    "vis.draw_quality(out[0])\n",
    "\n",
    "grasps, scores = select(out)\n",
    "grasps = [from_voxel_coordinates(g, vis.VOXEL_SIZE) for g in grasps]\n",
    "vis.draw_grasps(grasps, scores)"
   ]
  },
  {
   "cell_type": "markdown",
   "metadata": {},
   "source": [
    "Draw the ground truth and prediction of a random test sample."
   ]
  },
  {
   "cell_type": "code",
   "execution_count": null,
   "metadata": {},
   "outputs": [],
   "source": [
    "i = np.random.choice(len(dataset))\n",
    "print(\"Sample:\", i)\n",
    "\n",
    "x, y, index = dataset[i]\n",
    "vis.draw_sample(x, y, index)\n",
    "vis.draw_points(np.asarray(dataset.read_pc(i).points))\n",
    "\n",
    "out = predict(x, net, device)\n",
    "grasp, score = select_index(out, index)\n",
    "grasp = from_voxel_coordinates(grasp, vis.VOXEL_SIZE)\n",
    "vis.draw_grasps([grasp], [score])"
   ]
  },
  {
   "cell_type": "markdown",
   "metadata": {},
   "source": [
    "## Benchmark\n",
    "\n",
    "Metrics and failure cases of a clutter removal experiment."
   ]
  },
  {
   "cell_type": "code",
   "execution_count": null,
   "metadata": {},
   "outputs": [],
   "source": [
    "logdir = Path(\"data/experiments/meh\")"
   ]
  },
  {
   "cell_type": "markdown",
   "metadata": {},
   "source": [
    "Compute metrics."
   ]
  },
  {
   "cell_type": "code",
   "execution_count": null,
   "metadata": {},
   "outputs": [],
   "source": [
    "n_grasps, success_rate, percent_cleared, planning_time = benchmark.compute_metrics(logdir)\n",
    "\n",
    "print(\"# grasps:       \", n_grasps)\n",
    "print(\"Success rate:   \", success_rate)\n",
    "print(\"Percent cleared:\", percent_cleared)\n",
    "print(\"Planning time:   {} +- {}\".format(planning_time[\"mean\"], planning_time[\"std\"]))"
   ]
  },
  {
   "cell_type": "markdown",
   "metadata": {},
   "source": [
    "Visualize failure cases in rviz."
   ]
  },
  {
   "cell_type": "code",
   "execution_count": null,
   "metadata": {},
   "outputs": [],
   "source": [
    "dataset = Dataset(logdir)\n",
    "failures = dataset.df[dataset.df[\"label\"] == 0].index.tolist()\n",
    "iterator = iter(failures)"
   ]
  },
  {
   "cell_type": "code",
   "execution_count": null,
   "metadata": {},
   "outputs": [],
   "source": [
    "# visualize one by one\n",
    "i = next(iterator)\n",
    "print(i)\n",
    "dataset.draw(i, 0.05)"
   ]
  },
  {
   "cell_type": "code",
   "execution_count": null,
   "metadata": {},
   "outputs": [],
   "source": [
    "# iterate with some time delay\n",
    "for i in iterator:\n",
    "    dataset.draw(i, 0.05)\n",
    "    time.sleep(2.0)"
   ]
  },
  {
   "cell_type": "markdown",
   "metadata": {},
   "source": [
    "## Performance vs Amount of Scene Information\n",
    "\n",
    "Evaluate grasp performance with increasingly complete scene reconstructions."
   ]
  },
  {
   "cell_type": "code",
   "execution_count": null,
   "metadata": {},
   "outputs": [],
   "source": [
    "root = Path(\"data/experiments/scene_information\")\n",
    "N = 12"
   ]
  },
  {
   "cell_type": "code",
   "execution_count": null,
   "metadata": {},
   "outputs": [],
   "source": [
    "# grasp_planner = VGN(model_path)\n",
    "grasp_planner = GPD()"
   ]
  },
  {
   "cell_type": "code",
   "execution_count": null,
   "metadata": {},
   "outputs": [],
   "source": [
    "for n in range(1,N):\n",
    "    benchmark.run(\n",
    "        grasp_planner,\n",
    "        root / \"gpd\" / str(n).zfill(2),\n",
    "        object_set=\"test\",\n",
    "        object_count=5,\n",
    "        rounds=40,\n",
    "        n=n,\n",
    "        N=N,\n",
    "        sim_gui=True,\n",
    "    )"
   ]
  },
  {
   "cell_type": "markdown",
   "metadata": {},
   "source": [
    "Plot performance vs number of viewpoints."
   ]
  },
  {
   "cell_type": "code",
   "execution_count": null,
   "metadata": {},
   "outputs": [],
   "source": [
    "viewpoints = np.arange(1,N)\n",
    "success_rates = {\"vgn\" : [], \"gpd\": []}\n",
    "percent_cleared = {\"vgn\": [], \"gpd\": []}\n",
    "\n",
    "for n in viewpoints:\n",
    "    for method in [\"vgn\", \"gpd\"]:\n",
    "        res = benchmark.compute_metrics(root / method / str(n).zfill(2))\n",
    "        success_rates[method].append(res[1])\n",
    "        percent_cleared[method].append(res[2])\n"
   ]
  },
  {
   "cell_type": "code",
   "execution_count": null,
   "metadata": {},
   "outputs": [],
   "source": [
    "fig, ax = plt.subplots()\n",
    "\n",
    "ax.plot(viewpoints, success_rates[\"vgn\"], color=\"C0\", label=\"VGN\")\n",
    "ax.plot(viewpoints, percent_cleared[\"vgn\"], color=\"C0\", linestyle=\"--\")\n",
    "\n",
    "ax.plot(viewpoints, success_rates[\"gpd\"], color=\"C1\", label=\"GPD\")\n",
    "ax.plot(viewpoints, percent_cleared[\"gpd\"], color=\"C1\", linestyle=\"--\")\n",
    "\n",
    "ax.set_ylim(0, 101)\n",
    "ax.legend()"
   ]
  },
  {
   "cell_type": "code",
   "execution_count": null,
   "metadata": {},
   "outputs": [],
   "source": []
  }
 ],
 "metadata": {
  "kernelspec": {
   "display_name": "Python 2",
   "language": "python",
   "name": "python2"
  },
  "language_info": {
   "codemirror_mode": {
    "name": "ipython",
    "version": 2
   },
   "file_extension": ".py",
   "mimetype": "text/x-python",
   "name": "python",
   "nbconvert_exporter": "python",
   "pygments_lexer": "ipython2",
   "version": "2.7.17"
  }
 },
 "nbformat": 4,
 "nbformat_minor": 2
}
