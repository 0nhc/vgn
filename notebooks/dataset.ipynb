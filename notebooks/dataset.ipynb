{
 "cells": [
  {
   "cell_type": "markdown",
   "metadata": {},
   "source": [
    "# Dataset"
   ]
  },
  {
   "cell_type": "code",
   "execution_count": null,
   "metadata": {},
   "outputs": [],
   "source": [
    "import os\n",
    "os.chdir('..')"
   ]
  },
  {
   "cell_type": "code",
   "execution_count": null,
   "metadata": {},
   "outputs": [],
   "source": [
    "from __future__ import division, print_function\n",
    "\n",
    "from pathlib2 import Path\n",
    "import subprocess\n",
    "\n",
    "import matplotlib.pyplot as plt\n",
    "import numpy as np\n",
    "import pandas as pd\n",
    "import subprocess\n",
    "from tqdm import tqdm\n",
    "\n",
    "from vgn.utils.transform import Rotation, Transform"
   ]
  },
  {
   "cell_type": "markdown",
   "metadata": {},
   "source": [
    "## Statistics\n",
    "\n",
    "Compute the number of positive and negative samples in the dataset and plot the distribution of angles between the gravity vector and $Z$ axis of grasps."
   ]
  },
  {
   "cell_type": "code",
   "execution_count": null,
   "metadata": {},
   "outputs": [],
   "source": [
    "root = Path(\"data/datasets/foo\")"
   ]
  },
  {
   "cell_type": "code",
   "execution_count": null,
   "metadata": {},
   "outputs": [],
   "source": [
    "df = pd.read_csv(root / \"grasps.csv\")\n",
    "\n",
    "positives = df[df[\"label\"] == 1]\n",
    "negatives = df[df[\"label\"] == 0]\n",
    "\n",
    "print(\"Number of samples:\", len(df.index))\n",
    "print(\"Number of positives:\", len(positives.index))\n",
    "print(\"Number of negatives:\", len(negatives.index))"
   ]
  },
  {
   "cell_type": "code",
   "execution_count": null,
   "metadata": {},
   "outputs": [],
   "source": [
    "n = len(positives.index)\n",
    "angles = np.empty(n)\n",
    "for i, index in tqdm(enumerate(positives.index[:n]), total=n):\n",
    "    approach = Rotation.from_quat(df.loc[index, \"qx\":\"qw\"].to_numpy()).as_dcm()[:,2]\n",
    "    angle = np.arccos(np.dot(approach, np.r_[0.0, 0.0, -1.0]))\n",
    "    angles[i] = np.rad2deg(angle)        "
   ]
  },
  {
   "cell_type": "code",
   "execution_count": null,
   "metadata": {},
   "outputs": [],
   "source": [
    "plt.hist(angles, bins=30)\n",
    "plt.xlabel(\"Angle [deg]\")\n",
    "plt.ylabel(\"Count\")\n",
    "plt.show()"
   ]
  },
  {
   "cell_type": "markdown",
   "metadata": {},
   "source": [
    "## Cleanup\n",
    "\n",
    "Remove grasp positions that lie outside the workspace."
   ]
  },
  {
   "cell_type": "code",
   "execution_count": null,
   "metadata": {},
   "outputs": [],
   "source": [
    "root = Path(\"data/datasets/foo\")\n",
    "csv_path = root / \"grasps.csv\""
   ]
  },
  {
   "cell_type": "code",
   "execution_count": null,
   "metadata": {},
   "outputs": [],
   "source": [
    "df = pd.read_csv(csv_path)\n",
    "\n",
    "df.drop(df[df[\"x\"] < 0.02].index, inplace=True)\n",
    "df.drop(df[df[\"y\"] < 0.02].index, inplace=True)\n",
    "df.drop(df[df[\"z\"] < 0.02].index, inplace=True)\n",
    "df.drop(df[df[\"x\"] > 0.28].index, inplace=True)\n",
    "df.drop(df[df[\"y\"] > 0.28].index, inplace=True)\n",
    "df.drop(df[df[\"z\"] > 0.28].index, inplace=True)"
   ]
  },
  {
   "cell_type": "code",
   "execution_count": null,
   "metadata": {},
   "outputs": [],
   "source": [
    "df.to_csv(csv_path, index=False)  # DANGER ZONE, overwrites existing dataframe"
   ]
  },
  {
   "cell_type": "markdown",
   "metadata": {},
   "source": [
    "Remove unreferenced scenes."
   ]
  },
  {
   "cell_type": "code",
   "execution_count": null,
   "metadata": {},
   "outputs": [],
   "source": [
    "scenes = df[\"scene_id\"].values\n",
    "for f in (root / \"raw\").iterdir():\n",
    "    if f.suffix == \".npz\" and f.stem not in scenes:\n",
    "        print(\"Removed\", f)\n",
    "        f.unlink()"
   ]
  },
  {
   "cell_type": "markdown",
   "metadata": {},
   "source": [
    "## Balance Dataset\n",
    "\n",
    "Discard a random subset of negative samples to ensure the same number of positive and negative grasp samples."
   ]
  },
  {
   "cell_type": "code",
   "execution_count": null,
   "metadata": {},
   "outputs": [],
   "source": [
    "root = Path(\"data/datasets/foo\")\n",
    "csv_path = root / \"grasps.csv\""
   ]
  },
  {
   "cell_type": "code",
   "execution_count": null,
   "metadata": {},
   "outputs": [],
   "source": [
    "df = pd.read_csv(csv_path)\n",
    "\n",
    "positives = df[df[\"label\"] == 1]\n",
    "negatives = df[df[\"label\"] == 0]\n",
    "\n",
    "i = np.random.choice(negatives.index, len(negatives.index) - len(positives.index), replace=False)\n",
    "df = df.drop(i)"
   ]
  },
  {
   "cell_type": "code",
   "execution_count": null,
   "metadata": {},
   "outputs": [],
   "source": [
    "df.to_csv(csv_path, index=False)  # DANGER ZONE, overwrites existing dataframe"
   ]
  },
  {
   "cell_type": "markdown",
   "metadata": {},
   "source": [
    "## Generate TSDFs"
   ]
  },
  {
   "cell_type": "code",
   "execution_count": null,
   "metadata": {},
   "outputs": [],
   "source": [
    "root = Path(\"data/datasets/foo\")"
   ]
  },
  {
   "cell_type": "code",
   "execution_count": null,
   "metadata": {},
   "outputs": [],
   "source": [
    "from vgn.perception import TSDFVolume\n",
    "from vgn.simulation import ClutterRemovalSim\n",
    "\n",
    "raw_dir = root / \"raw\"\n",
    "tsdf_dir = root / \"tsdfs\"\n",
    "tsdf_dir.mkdir(exist_ok=True)\n",
    "\n",
    "sim = ClutterRemovalSim(\"pile\", \"blocks\", gui=False)\n",
    "\n",
    "for raw_file in tqdm(list(raw_dir.iterdir())):\n",
    "    if not raw_file.suffix == \".npz\":\n",
    "        continue\n",
    "        \n",
    "    tsdf_file = tsdf_dir / raw_file.name\n",
    "    if tsdf_file.exists():\n",
    "        continue  # manually delete the folder in order to regenerate TSDFs\n",
    "    \n",
    "    raw = np.load(raw_file)\n",
    "    depth_imgs = raw[\"depth_imgs\"]\n",
    "    extrinsics = raw[\"extrinsics\"]\n",
    "    n = int(raw[\"n\"])\n",
    "\n",
    "    tsdf = TSDFVolume(sim.size, 40)\n",
    "    for i in range(depth_imgs.shape[0]):\n",
    "        extrinsic = Transform.from_list(extrinsics[i])\n",
    "        tsdf.integrate(depth_imgs[i], sim.camera.intrinsic, extrinsic)\n",
    "        if i+1 == n:\n",
    "            partial = tsdf.get_volume()\n",
    "    complete = tsdf.get_volume()\n",
    "\n",
    "    np.savez_compressed(str(tsdf_file), partial=partial, complete=complete)"
   ]
  },
  {
   "cell_type": "markdown",
   "metadata": {},
   "source": [
    "## Visualize\n",
    "\n",
    "Make sure to have a ROS core running and open `config/sim.rviz` in RViz."
   ]
  },
  {
   "cell_type": "code",
   "execution_count": null,
   "metadata": {},
   "outputs": [],
   "source": [
    "root = Path(\"data/datasets/foo\")"
   ]
  },
  {
   "cell_type": "code",
   "execution_count": null,
   "metadata": {},
   "outputs": [],
   "source": [
    "import rospy\n",
    "\n",
    "from vgn.dataset import Dataset\n",
    "from vgn import vis\n",
    "\n",
    "rospy.init_node(\"vgn_vis\", anonymous=True)\n",
    "vis.set_size(0.3)"
   ]
  },
  {
   "cell_type": "code",
   "execution_count": null,
   "metadata": {},
   "outputs": [],
   "source": [
    "dataset = Dataset(root, reconstruction=\"complete\", augment=False)"
   ]
  },
  {
   "cell_type": "code",
   "execution_count": null,
   "metadata": {},
   "outputs": [],
   "source": [
    "i = np.random.choice(len(dataset))\n",
    "x, y, index = dataset[i]\n",
    "vis.draw_sample(x, y, index)"
   ]
  },
  {
   "cell_type": "markdown",
   "metadata": {},
   "source": [
    "## Merge Datasets"
   ]
  },
  {
   "cell_type": "code",
   "execution_count": null,
   "metadata": {},
   "outputs": [],
   "source": [
    "sources = [Path(\"data/datasets/foo\"),\n",
    "           Path(\"data/datasets/bar\")]\n",
    "target = Path(\"data/datasets/merged\")"
   ]
  },
  {
   "cell_type": "code",
   "execution_count": null,
   "metadata": {},
   "outputs": [],
   "source": [
    "(target / \"raw\").mkdir(exist_ok=True)\n",
    "(target / \"tsdfs\").mkdir(exist_ok=True)\n",
    "\n",
    "target_csv_path = target / \"grasps.csv\"\n",
    "target_df = pd.read_csv(target_csv_path) if target_csv_path.exists() else pd.DataFrame()\n",
    "\n",
    "for source_dir in sources:\n",
    "    # concatenate dataframes\n",
    "    csv_path = source_dir / \"grasps.csv\"\n",
    "    source_df = pd.read_csv(csv_path)\n",
    "    target_df = pd.concat([target_df, source_df])\n",
    "    # move raw data\n",
    "    cmd = \"mv {} {}\".format(str(source_dir / \"raw\") + \"/*.npz\", str(target / \"raw\"))\n",
    "    subprocess.call(cmd, shell=True)\n",
    "    # move tsdfs\n",
    "    cmd = \"mv {} {}\".format(str(source_dir / \"tsdfs\") + \"/*.npz\", str(target / \"tsdfs\"))\n",
    "    subprocess.call(cmd, shell=True)"
   ]
  },
  {
   "cell_type": "code",
   "execution_count": null,
   "metadata": {},
   "outputs": [],
   "source": [
    "target_df.to_csv(target_csv_path, index=False)"
   ]
  },
  {
   "cell_type": "code",
   "execution_count": null,
   "metadata": {},
   "outputs": [],
   "source": []
  }
 ],
 "metadata": {
  "kernelspec": {
   "display_name": "Python 2",
   "language": "python",
   "name": "python2"
  },
  "language_info": {
   "codemirror_mode": {
    "name": "ipython",
    "version": 2
   },
   "file_extension": ".py",
   "mimetype": "text/x-python",
   "name": "python",
   "nbconvert_exporter": "python",
   "pygments_lexer": "ipython2",
   "version": "2.7.17"
  }
 },
 "nbformat": 4,
 "nbformat_minor": 2
}
