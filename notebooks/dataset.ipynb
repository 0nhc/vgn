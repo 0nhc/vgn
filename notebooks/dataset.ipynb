{
 "cells": [
  {
   "cell_type": "markdown",
   "metadata": {},
   "source": [
    "# Dataset\n",
    "\n",
    "Inspect, merge and balance datasets."
   ]
  },
  {
   "cell_type": "code",
   "execution_count": null,
   "metadata": {},
   "outputs": [],
   "source": [
    "%load_ext autoreload\n",
    "%autoreload 2\n",
    "\n",
    "import os\n",
    "os.chdir('..')"
   ]
  },
  {
   "cell_type": "code",
   "execution_count": null,
   "metadata": {},
   "outputs": [],
   "source": [
    "from __future__ import print_function, division\n",
    "\n",
    "from pathlib2 import Path\n",
    "import subprocess\n",
    "\n",
    "import matplotlib.pyplot as plt\n",
    "import numpy as np\n",
    "import pandas as pd\n",
    "import rospy\n",
    "import tqdm\n",
    "\n",
    "from vgn.dataset import Dataset\n",
    "from vgn.utils.transform import Transform, Rotation\n",
    "from vgn import vis"
   ]
  },
  {
   "cell_type": "code",
   "execution_count": null,
   "metadata": {},
   "outputs": [],
   "source": [
    "rospy.init_node(\"dataset\")"
   ]
  },
  {
   "cell_type": "code",
   "execution_count": null,
   "metadata": {},
   "outputs": [],
   "source": [
    "data_dir = Path(\"data/datasets/train\")\n",
    "\n",
    "csv_path = data_dir / \"grasps.csv\"\n",
    "raw_dir = data_dir / \"raw\"\n",
    "tsdf_dir= data_dir / \"tsdfs\""
   ]
  },
  {
   "cell_type": "markdown",
   "metadata": {},
   "source": [
    "## Statistics"
   ]
  },
  {
   "cell_type": "code",
   "execution_count": null,
   "metadata": {},
   "outputs": [],
   "source": [
    "df = pd.read_csv(csv_path)\n",
    "\n",
    "positives = df[df[\"label\"] == 1]\n",
    "negatives = df[df[\"label\"] == 0]\n",
    "\n",
    "print(\"Number of samples:\", len(df.index))\n",
    "print(\"Number of positives:\", len(positives.index))\n",
    "print(\"Number of negatives:\", len(negatives.index))"
   ]
  },
  {
   "cell_type": "markdown",
   "metadata": {},
   "source": [
    "Angle between approach and Z axis."
   ]
  },
  {
   "cell_type": "code",
   "execution_count": null,
   "metadata": {},
   "outputs": [],
   "source": [
    "N = len(positives.index)\n",
    "angles = np.empty(N)\n",
    "for i, index in enumerate(positives.index[:N]):\n",
    "    ori = Rotation.from_quat(df.loc[index, \"qx\":\"qw\"].to_numpy())\n",
    "    approach = ori.as_dcm()[:,2]\n",
    "    angle = np.arccos(np.dot(approach, np.r_[0.0, 0.0, -1.0]))\n",
    "    angles[i] = np.rad2deg(angle)        "
   ]
  },
  {
   "cell_type": "code",
   "execution_count": null,
   "metadata": {},
   "outputs": [],
   "source": [
    "plt.hist(angles)\n",
    "plt.xlabel(\"Angle\")\n",
    "plt.ylabel(\"Count\")\n",
    "plt.title(\"Angle between approach and Z-axis\")\n",
    "plt.show()"
   ]
  },
  {
   "cell_type": "markdown",
   "metadata": {},
   "source": [
    "## Balance Dataset\n",
    "\n",
    "Discard a random subset of negative samples to ensure the same number of positive and negative grasp samples."
   ]
  },
  {
   "cell_type": "code",
   "execution_count": null,
   "metadata": {},
   "outputs": [],
   "source": [
    "df = pd.read_csv(csv_path)\n",
    "positives = df[df[\"label\"] == 1]\n",
    "negatives = df[df[\"label\"] == 0]\n",
    "\n",
    "i = np.random.choice(negatives.index, len(negatives.index) - len(positives.index), replace=False)\n",
    "df = df.drop(i)"
   ]
  },
  {
   "cell_type": "markdown",
   "metadata": {},
   "source": [
    "*DANGER ZONE* - overwrite dataframe and remove unreferenced raw data."
   ]
  },
  {
   "cell_type": "code",
   "execution_count": null,
   "metadata": {},
   "outputs": [],
   "source": [
    "df.to_csv(csv_path, index=False)"
   ]
  },
  {
   "cell_type": "code",
   "execution_count": null,
   "metadata": {},
   "outputs": [],
   "source": [
    "scenes = df[\"scene_id\"].values\n",
    "for f in raw_dir.iterdir():\n",
    "    if f.suffix == \".npz\" and f.stem not in scenes:\n",
    "        print(\"Removing \", f)\n",
    "        # f.unlink()"
   ]
  },
  {
   "cell_type": "markdown",
   "metadata": {},
   "source": [
    "## Generate TSDFs"
   ]
  },
  {
   "cell_type": "code",
   "execution_count": null,
   "metadata": {},
   "outputs": [],
   "source": [
    "from vgn.perception import TSDFVolume\n",
    "from vgn.simulation import GraspSimulation\n",
    "\n",
    "sim = GraspSimulation(\"blocks\", gui=False)\n",
    "tsdf_dir.mkdir(exist_ok=True)\n",
    "\n",
    "for raw_file in tqdm.tqdm(list(raw_dir.iterdir())):\n",
    "    if not raw_file.suffix == \".npz\":\n",
    "        continue\n",
    "    \n",
    "    raw = np.load(raw_file)\n",
    "    depth_imgs = raw[\"depth_imgs\"]\n",
    "    extrinsics = raw[\"extrinsics\"]\n",
    "    n = int(raw[\"n\"])\n",
    "\n",
    "    tsdf = TSDFVolume(sim.size, 40)\n",
    "    for i in range(depth_imgs.shape[0]):\n",
    "        extrinsic = Transform.from_list(extrinsics[i])\n",
    "        tsdf.integrate(depth_imgs[i], sim.camera.intrinsic, extrinsic)\n",
    "        if i+1 == n:\n",
    "            partial = tsdf.get_volume()\n",
    "    complete = tsdf.get_volume()\n",
    "\n",
    "    tsdf_file = tsdf_dir / raw_file.name\n",
    "    np.savez_compressed(str(tsdf_file), partial=partial, complete=complete)"
   ]
  },
  {
   "cell_type": "markdown",
   "metadata": {},
   "source": [
    "## Visualize\n",
    "\n",
    "Visualize random grasp samples in rviz."
   ]
  },
  {
   "cell_type": "code",
   "execution_count": null,
   "metadata": {},
   "outputs": [],
   "source": [
    "dataset = Dataset(data_dir, tsdf=\"partial\")\n",
    "i = np.random.choice(len(dataset))\n",
    "x, y, index = dataset[i]\n",
    "vis.draw_sample(x, y, index)"
   ]
  },
  {
   "cell_type": "markdown",
   "metadata": {},
   "source": [
    "## Merge Datasets\n",
    "\n",
    "Merge multiple folders into a single data set."
   ]
  },
  {
   "cell_type": "code",
   "execution_count": null,
   "metadata": {},
   "outputs": [],
   "source": [
    "root = Path(\"data/datasets\")\n",
    "sources = [\"train8\", \"train9\"]\n",
    "target = \"train\"\n",
    "\n",
    "target_dir = root / target\n",
    "target_csv_path = target_dir / \"grasps.csv\""
   ]
  },
  {
   "cell_type": "code",
   "execution_count": null,
   "metadata": {},
   "outputs": [],
   "source": [
    "target_df = pd.read_csv(target_csv_path) if target_csv_path.exists() else pd.DataFrame()\n",
    "\n",
    "for source in sources:\n",
    "    source_dir = root / source\n",
    "    # concatenate dataframes\n",
    "    csv_path = source_dir / \"grasps.csv\"\n",
    "    source_df = pd.read_csv(csv_path)\n",
    "    target_df = pd.concat([target_df, source_df])\n",
    "    # move raw data\n",
    "    cmd = \"mv {} {}\".format(str(source_dir / \"raw\") + \"/*.npz\", str(target_dir / \"raw\"))\n",
    "    subprocess.call(cmd, shell=True)"
   ]
  },
  {
   "cell_type": "code",
   "execution_count": null,
   "metadata": {},
   "outputs": [],
   "source": [
    "target_df.to_csv(target_csv_path, index=False)"
   ]
  },
  {
   "cell_type": "code",
   "execution_count": null,
   "metadata": {},
   "outputs": [],
   "source": []
  }
 ],
 "metadata": {
  "kernelspec": {
   "display_name": "Python 2",
   "language": "python",
   "name": "python2"
  },
  "language_info": {
   "codemirror_mode": {
    "name": "ipython",
    "version": 2
   },
   "file_extension": ".py",
   "mimetype": "text/x-python",
   "name": "python",
   "nbconvert_exporter": "python",
   "pygments_lexer": "ipython2",
   "version": "2.7.17"
  }
 },
 "nbformat": 4,
 "nbformat_minor": 2
}
