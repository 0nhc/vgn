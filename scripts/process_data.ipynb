{
 "cells": [
  {
   "cell_type": "code",
   "execution_count": null,
   "metadata": {},
   "outputs": [],
   "source": [
    "import numpy as np\n",
    "from pathlib import Path\n",
    "import pandas as pd"
   ]
  },
  {
   "cell_type": "code",
   "execution_count": null,
   "metadata": {},
   "outputs": [],
   "source": [
    "# Read data\n",
    "root = Path(\"../data/grasps/blocks\")\n",
    "df = pd.read_csv(root / \"grasps.csv\")"
   ]
  },
  {
   "cell_type": "code",
   "execution_count": null,
   "metadata": {},
   "outputs": [],
   "source": [
    "# Write data\n",
    "df.to_csv(root / \"grasps.csv\", index=False)"
   ]
  },
  {
   "cell_type": "code",
   "execution_count": null,
   "metadata": {},
   "outputs": [],
   "source": [
    "# Inspect data\n",
    "pos = df[df.quality == 1]\n",
    "neg = df[df.quality == 0]\n",
    "\n",
    "print(\"number of scenes:\", len(np.unique(df.scene_id)))\n",
    "print(\"Number of grasps:\", len(df.index))\n",
    "print(\"Number of positives:\", len(pos.index))\n",
    "print(\"Number of negatives:\", len(neg.index))"
   ]
  },
  {
   "cell_type": "code",
   "execution_count": null,
   "metadata": {},
   "outputs": [],
   "source": [
    "# Remove grasp positions that lie outside the workspace\n",
    "df.drop(\n",
    "    df[\n",
    "        (df.x < 0.04)\n",
    "        | (df.x > 0.26)\n",
    "        | (df.y < 0.04)\n",
    "        | (df.y > 0.26)\n",
    "        | (df.z < 0.04)\n",
    "        | (df.z > 0.26)\n",
    "    ].index,\n",
    "    inplace=True,\n",
    ")"
   ]
  },
  {
   "cell_type": "code",
   "execution_count": null,
   "metadata": {},
   "outputs": [],
   "source": [
    "# Balance data\n",
    "pos = df[df.quality == 1]\n",
    "neg = df[df.quality == 0]\n",
    "pos_count = len(pos.index)\n",
    "neg_count = len(neg.index)\n",
    "i = np.random.choice(neg.index, neg_count - pos_count, replace=False)\n",
    "df = df.drop(i)"
   ]
  },
  {
   "cell_type": "code",
   "execution_count": null,
   "metadata": {},
   "outputs": [],
   "source": [
    "# Delete unreferenced scenes\n",
    "scenes = df.scene_id.values\n",
    "for f in root.iterdir():\n",
    "    if f.suffix == \".npz\" and f.stem not in scenes:\n",
    "        print(\"Removed\", f)\n",
    "        f.unlink()"
   ]
  },
  {
   "cell_type": "code",
   "execution_count": null,
   "metadata": {},
   "outputs": [],
   "source": [
    "# Merge folders\n",
    "target_foler = \"../data/grasps/train\"\n",
    "source_folders = [\"../data/grasps/train01\", \"../data/grasps/train02\"]\n",
    "df = pd.concat([pd.read_csv(root + \"/grasps.csv\") for root in source_folders])\n",
    "df.to_csv(target_foler + \"/grasps.csv\", index=False)"
   ]
  }
 ],
 "metadata": {
  "interpreter": {
   "hash": "d7b4fde0f926a3b721de8f7c96fae1355e02b1b95bd4bddfa62446411daaa37f"
  },
  "kernelspec": {
   "display_name": "Python 3.9.9 64-bit ('vgn': venv)",
   "language": "python",
   "name": "python3"
  },
  "language_info": {
   "codemirror_mode": {
    "name": "ipython",
    "version": 3
   },
   "file_extension": ".py",
   "mimetype": "text/x-python",
   "name": "python",
   "nbconvert_exporter": "python",
   "pygments_lexer": "ipython3",
   "version": "3.9.9"
  },
  "orig_nbformat": 4
 },
 "nbformat": 4,
 "nbformat_minor": 2
}
