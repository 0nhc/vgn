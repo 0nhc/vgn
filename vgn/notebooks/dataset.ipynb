{
 "cells": [
  {
   "cell_type": "markdown",
   "metadata": {},
   "source": [
    "# Dataset Inspection"
   ]
  },
  {
   "cell_type": "code",
   "execution_count": null,
   "metadata": {},
   "outputs": [],
   "source": [
    "from __future__ import print_function, division\n",
    "\n",
    "from pathlib2 import Path\n",
    "\n",
    "import numpy as np\n",
    "import pandas\n",
    "import rospy\n",
    "\n",
    "from vgn import from_voxel_coordinates\n",
    "from vgn.dataset import Dataset\n",
    "from vgn.grasp import Grasp\n",
    "from vgn.utils.transform import Rotation, Transform\n",
    "from vgn_ros import vis\n",
    "\n",
    "\n",
    "finger_depth = 0.05\n",
    "size = 6.0 * finger_depth\n",
    "voxel_size = size / 40.0"
   ]
  },
  {
   "cell_type": "code",
   "execution_count": null,
   "metadata": {},
   "outputs": [],
   "source": [
    "dataset_dir = Path(\"../data/datasets/train\")\n",
    "csv_path = dataset_dir / \"grasps.csv\""
   ]
  },
  {
   "cell_type": "markdown",
   "metadata": {},
   "source": [
    "## Compute Statistics"
   ]
  },
  {
   "cell_type": "code",
   "execution_count": null,
   "metadata": {},
   "outputs": [],
   "source": [
    "df = pandas.read_csv(csv_path)\n",
    "\n",
    "positives = df[df[\"label\"] == 1]\n",
    "negatives = df[df[\"label\"] == 0]\n",
    "\n",
    "print(\"Number of samples:\", len(df.index))\n",
    "print(\"Number of positives:\", len(positives.index))\n",
    "print(\"Number of negatives:\", len(negatives.index))"
   ]
  },
  {
   "cell_type": "markdown",
   "metadata": {},
   "source": [
    "## Visualize Samples\n",
    "\n",
    "Visualize random grasp samples in rviz."
   ]
  },
  {
   "cell_type": "code",
   "execution_count": null,
   "metadata": {},
   "outputs": [],
   "source": [
    "rospy.init_node(\"dataset_inspection\")"
   ]
  },
  {
   "cell_type": "code",
   "execution_count": null,
   "metadata": {},
   "outputs": [],
   "source": [
    "dataset = Dataset(dataset_dir, augment=False)\n",
    "\n",
    "i = np.random.choice(len(dataset))\n",
    "tsdf, (label, rotations, width), index = dataset[i]\n",
    "grasp = Grasp(Transform(Rotation.from_quat(rotations[0]), index), width)\n",
    "\n",
    "grasp = from_voxel_coordinates(grasp, voxel_size)\n",
    "\n",
    "vis.clear()\n",
    "vis.workspace(size)\n",
    "vis.tsdf(tsdf.squeeze(), voxel_size)\n",
    "vis.grasps([grasp], [float(label)], finger_depth)"
   ]
  },
  {
   "cell_type": "markdown",
   "metadata": {},
   "source": [
    "## Balance Dataset\n",
    "\n",
    "Discard a random subset of negative samples to ensure the same number of positive and negative grasp samples."
   ]
  },
  {
   "cell_type": "code",
   "execution_count": null,
   "metadata": {},
   "outputs": [],
   "source": [
    "df = pandas.read_csv(csv_path)\n",
    "positives = df[df[\"label\"] == 1]\n",
    "negatives = df[df[\"label\"] == 0]\n",
    "\n",
    "i = np.random.choice(negatives.index, len(negatives.index) - len(positives.index), replace=False)\n",
    "df = df.drop(i)\n",
    "\n",
    "df.to_csv(csv_path, index=False)"
   ]
  },
  {
   "cell_type": "code",
   "execution_count": null,
   "metadata": {},
   "outputs": [],
   "source": [
    "# DANGER ZONE - remove unreferenced TSDFs.\n",
    "SIMULATE = True\n",
    "names = df[\"tsdf\"].values\n",
    "for f in dataset_dir.iterdir():\n",
    "    if f.suffix == \".npz\" and f.name not in names:\n",
    "        print(\"Removed \", f)\n",
    "        if not SIMULATE:\n",
    "            f.unlink()"
   ]
  },
  {
   "cell_type": "code",
   "execution_count": null,
   "metadata": {},
   "outputs": [],
   "source": []
  }
 ],
 "metadata": {
  "kernelspec": {
   "display_name": "Python 2",
   "language": "python",
   "name": "python2"
  },
  "language_info": {
   "codemirror_mode": {
    "name": "ipython",
    "version": 2
   },
   "file_extension": ".py",
   "mimetype": "text/x-python",
   "name": "python",
   "nbconvert_exporter": "python",
   "pygments_lexer": "ipython2",
   "version": "2.7.17"
  }
 },
 "nbformat": 4,
 "nbformat_minor": 2
}
