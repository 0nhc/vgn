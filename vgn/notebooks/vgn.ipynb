{
 "cells": [
  {
   "cell_type": "markdown",
   "metadata": {},
   "source": [
    "# VGN Inspection"
   ]
  },
  {
   "cell_type": "code",
   "execution_count": null,
   "metadata": {},
   "outputs": [],
   "source": [
    "from __future__ import print_function, division\n",
    "\n",
    "from pathlib2 import Path\n",
    "import time\n",
    "\n",
    "import numpy as np\n",
    "import rospy\n",
    "import torch\n",
    "\n",
    "from vgn import *\n",
    "from vgn.dataset import Dataset\n",
    "from vgn.networks import load_network\n",
    "from vgn_ros import vis"
   ]
  },
  {
   "cell_type": "code",
   "execution_count": null,
   "metadata": {},
   "outputs": [],
   "source": [
    "dataset_dir = Path(\"../data/datasets/blocks\")\n",
    "model = Path(\"/home/michel/Developer/catkin_ws/src/vgn/vgn/data/models/200524-124604,net=conv,dataset=blocks,batch_size=32,lr=3e-04,/vgn_conv_100.pth\")\n",
    "\n",
    "finger_depth = 0.05\n",
    "size = 6.0 * finger_depth\n",
    "voxel_size = size / 40.0"
   ]
  },
  {
   "cell_type": "code",
   "execution_count": null,
   "metadata": {},
   "outputs": [],
   "source": [
    "# initialize a ros node to communicate with rviz\n",
    "rospy.init_node(\"dataset_inspection\")"
   ]
  },
  {
   "cell_type": "code",
   "execution_count": null,
   "metadata": {},
   "outputs": [],
   "source": [
    "# load the dataset and trained network weights\n",
    "dataset = Dataset(dataset_dir)\n",
    "\n",
    "device = torch.device(\"cuda\" if torch.cuda.is_available() else \"cpu\")\n",
    "net = load_network(model, device)"
   ]
  },
  {
   "cell_type": "markdown",
   "metadata": {},
   "source": [
    "## Visualize detections"
   ]
  },
  {
   "cell_type": "code",
   "execution_count": null,
   "metadata": {},
   "outputs": [],
   "source": [
    "i = np.random.choice(len(dataset))\n",
    "tsdf, _, _ = dataset[i]\n",
    "\n",
    "tic = time.time()\n",
    "out = predict(tsdf, net, device)\n",
    "out = process(out)\n",
    "grasps, scores = select(out)\n",
    "grasps = [from_voxel_coordinates(g, voxel_size) for g in grasps]\n",
    "toc = time.time() - tic\n",
    "print(\"Detected {} grasps in {} seconds\".format(len(grasps), toc))\n",
    "\n",
    "\n",
    "vis.clear()\n",
    "vis.workspace(size)\n",
    "vis.tsdf(tsdf.squeeze(), voxel_size)\n",
    "vis.quality(out[0], voxel_size)\n",
    "vis.grasps(grasps, scores, finger_depth)"
   ]
  },
  {
   "cell_type": "code",
   "execution_count": null,
   "metadata": {},
   "outputs": [],
   "source": []
  }
 ],
 "metadata": {
  "kernelspec": {
   "display_name": "Python 2",
   "language": "python",
   "name": "python2"
  },
  "language_info": {
   "codemirror_mode": {
    "name": "ipython",
    "version": 2
   },
   "file_extension": ".py",
   "mimetype": "text/x-python",
   "name": "python",
   "nbconvert_exporter": "python",
   "pygments_lexer": "ipython2",
   "version": "2.7.17"
  }
 },
 "nbformat": 4,
 "nbformat_minor": 2
}
