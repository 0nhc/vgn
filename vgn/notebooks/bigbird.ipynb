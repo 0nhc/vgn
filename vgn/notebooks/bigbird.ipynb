{
 "cells": [
  {
   "cell_type": "markdown",
   "metadata": {},
   "source": [
    "# BigBIRD\n",
    "\n",
    "Script to dowload and extract meshes from the BigBird dataset."
   ]
  },
  {
   "cell_type": "code",
   "execution_count": null,
   "metadata": {},
   "outputs": [],
   "source": [
    "from pathlib2 import Path\n",
    "import requests\n",
    "import tarfile\n",
    "import shutil"
   ]
  },
  {
   "cell_type": "code",
   "execution_count": null,
   "metadata": {},
   "outputs": [],
   "source": [
    "CWD = Path.home() / \"Downloads\""
   ]
  },
  {
   "cell_type": "code",
   "execution_count": null,
   "metadata": {},
   "outputs": [],
   "source": [
    "objects = [\n",
    "    \"3m_high_tack_spray_adhesive\",\n",
    "    \"advil_liqui_gels\",\n",
    "    \"aunt_jemima_original_syrup\",\n",
    "    \"bai5_sumatra_dragonfruit\",\n",
    "    \"band_aid_clear_strips\",\n",
    "    \"band_aid_sheer_strips\",\n",
    "    \"blue_clover_baby_toy\",\n",
    "    \"bumblebee_albacore\",\n",
    "    \"campbells_chicken_noodle_soup\",\n",
    "    \"campbells_soup_at_hand_creamy_tomato\",\n",
    "    \"canon_ack_e10_box\",\n",
    "    \"cheez_it_white_cheddar\",\n",
    "    \"chewy_dipps_chocolate_chip\",\n",
    "    \"chewy_dipps_peanut_butter\",\n",
    "    \"cholula_chipotle_hot_sauce\",\n",
    "    \"cinnamon_toast_crunch\",\n",
    "    \"clif_crunch_chocolate_chip\",\n",
    "    \"coca_cola_glass_bottle\",\n",
    "    \"coffee_mate_french_vanilla\",\n",
    "    \"colgate_cool_mint\",\n",
    "    \"crayola_24_crayons\",\n",
    "    \"crest_complete_minty_fresh\",\n",
    "    \"crystal_hot_sauce\",\n",
    "    \"cup_noodles_chicken\",\n",
    "    \"detergent\",\n",
    "    \"dove_beauty_cream_bar\",\n",
    "    \"eating_right_for_healthy_living_apple\",\n",
    "    \"expo_marker_red\",\n",
    "    \"fruit_by_the_foot\",\n",
    "    \"haagen_dazs_butter_pecan\",\n",
    "    \"haagen_dazs_cookie_dough\",\n",
    "    \"hersheys_bar\",\n",
    "    \"hersheys_cocoa\",\n",
    "    \"honey_bunches_of_oats_honey_roasted\",\n",
    "    \"hunts_paste\",\n",
    "    \"ikea_table_leg_blue\",\n",
    "    \"krylon_crystal_clear\",\n",
    "    \"krylon_short_cuts\",\n",
    "    \"mom_to_mom_butternut_squash_pear\",\n",
    "    \"motts_original_assorted_fruit\",\n",
    "    \"nice_honey_roasted_almonds\",\n",
    "    \"nutrigrain_apple_cinnamon\",\n",
    "    \"palmolive_green\",\n",
    "    \"pepto_bismol\",\n",
    "    \"pop_secret_butter\",\n",
    "    \"pop_secret_light_butter\",\n",
    "    \"pop_tarts_strawberry\",\n",
    "    \"pringles_bbq\",\n",
    "    \"progresso_new_england_clam_chowder\",\n",
    "    \"quaker_big_chewy_chocolate_chip\",\n",
    "    \"red_bull\",\n",
    "    \"red_cup\",\n",
    "    \"softsoap_gold\",\n",
    "    \"south_beach_good_to_go_dark_chocolate\",\n",
    "    \"spam\",\n",
    "    \"spongebob_squarepants_fruit_snaks\",\n",
    "    \"suave_sweet_guava_nectar_body_wash\",\n",
    "    \"sunkist_fruit_snacks_mixed_fruit\",\n",
    "    \"v8_fusion_peach_mango\",\n",
    "    \"vo5_extra_body_volumizing_shampoo\",\n",
    "    \"white_rain_sensations_apple_blossom_hydrating_body_wash\",\n",
    "    \"windex\",\n",
    "    \"zilla_night_black_heat\",\n",
    "]"
   ]
  },
  {
   "cell_type": "code",
   "execution_count": null,
   "metadata": {},
   "outputs": [],
   "source": [
    "for name in objects:\n",
    "    print(\"Processing\", name)\n",
    "    \n",
    "    # download\n",
    "    url = \"http://rll.berkeley.edu/bigbird/aliases/dca39bef51/export/\" + name + \"/processed.tgz\"\n",
    "    archive = CWD / \"processed.tgz\"\n",
    "    r = requests.get(url, allow_redirects=True)\n",
    "    archive.open(\"wb\").write(r.content)\n",
    "    \n",
    "    # extract\n",
    "    tar = tarfile.open(str(archive))\n",
    "    tar.extractall(str(CWD))\n",
    "    tar.close()\n",
    "    archive.unlink()\n",
    "    \n",
    "    # copy\n",
    "    source_path = CWD / name / \"meshes\" / \"poisson.ply\"\n",
    "    target_path = CWD / \"bigbird\" / (name + \".ply\")\n",
    "    shutil.copy(str(source_path), str(target_path))"
   ]
  },
  {
   "cell_type": "code",
   "execution_count": null,
   "metadata": {},
   "outputs": [],
   "source": []
  }
 ],
 "metadata": {
  "kernelspec": {
   "display_name": "Python 2.7.17 64-bit ('.venv': virtualenv)",
   "language": "python",
   "name": "python271764bitvenvvirtualenvaaf25d8b1b524fb48018a995ef6dd85c"
  },
  "language_info": {
   "codemirror_mode": {
    "name": "ipython",
    "version": 2
   },
   "file_extension": ".py",
   "mimetype": "text/x-python",
   "name": "python",
   "nbconvert_exporter": "python",
   "pygments_lexer": "ipython2",
   "version": "2.7.17"
  }
 },
 "nbformat": 4,
 "nbformat_minor": 2
}
