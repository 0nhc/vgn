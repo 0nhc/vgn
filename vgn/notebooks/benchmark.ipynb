{
 "cells": [
  {
   "cell_type": "markdown",
   "metadata": {},
   "source": [
    "# Clutter Removal Benchmark Evaluation"
   ]
  },
  {
   "cell_type": "code",
   "execution_count": null,
   "metadata": {},
   "outputs": [],
   "source": [
    "from __future__ import print_function, division\n",
    "\n",
    "from pathlib2 import Path\n",
    "\n",
    "import pandas as pd"
   ]
  },
  {
   "cell_type": "code",
   "execution_count": null,
   "metadata": {},
   "outputs": [],
   "source": [
    "log_dir = Path(\"../data/experiments/200531-115205 debug\")\n",
    "\n",
    "rounds = pd.read_csv(log_dir / \"rounds.csv\")\n",
    "trials = pd.read_csv(log_dir / \"grasps.csv\")"
   ]
  },
  {
   "cell_type": "markdown",
   "metadata": {},
   "source": [
    "## Metrics\n",
    "\n",
    "- Success rate: fraction of successful grasp attempts\n",
    "- Percent cleared: fraction of objects that were removed\n",
    "- Planning time: average grasp planning time"
   ]
  },
  {
   "cell_type": "code",
   "execution_count": null,
   "metadata": {},
   "outputs": [],
   "source": [
    "# success rate\n",
    "success_rate = trials[\"label\"].mean() * 100\n",
    "print(success_rate)"
   ]
  },
  {
   "cell_type": "code",
   "execution_count": null,
   "metadata": {},
   "outputs": [],
   "source": [
    "# percent cleared\n",
    "df = trials[[\"round_id\", \"label\"]].groupby(\"round_id\").sum().rename(columns={\"label\": \"cleared_count\"})\n",
    "df = df.merge(rounds, on=\"round_id\")\n",
    "percent_cleared = df[\"cleared_count\"].sum() / df[\"object_count\"].sum() * 100\n",
    "print(percent_cleared)"
   ]
  },
  {
   "cell_type": "code",
   "execution_count": null,
   "metadata": {},
   "outputs": [],
   "source": [
    "# planning time\n",
    "planning_time = trials[\"planning_time\"].mean()\n",
    "print(planning_time)"
   ]
  },
  {
   "cell_type": "code",
   "execution_count": null,
   "metadata": {},
   "outputs": [],
   "source": []
  }
 ],
 "metadata": {
  "kernelspec": {
   "display_name": "Python 2",
   "language": "python",
   "name": "python2"
  },
  "language_info": {
   "codemirror_mode": {
    "name": "ipython",
    "version": 2
   },
   "file_extension": ".py",
   "mimetype": "text/x-python",
   "name": "python",
   "nbconvert_exporter": "python",
   "pygments_lexer": "ipython2",
   "version": "2.7.17"
  }
 },
 "nbformat": 4,
 "nbformat_minor": 2
}
